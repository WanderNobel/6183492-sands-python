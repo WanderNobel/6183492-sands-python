{
 "cells": [
  {
   "cell_type": "code",
   "execution_count": null,
   "id": "a97b95ed-4fbc-4036-9f73-4ffca698510a",
   "metadata": {},
   "outputs": [],
   "source": [
    "import numpy as np\n",
    "import matplotlib.pyplot as plt\n",
    "\n",
    "def generate_sine_wave(frequency, duration, sample_rate):\n",
    "    samples = duration * sample_rate \n",
    "    t = np.linspace(0, duration, samples)\n",
    "    wave = np.sin(2 * np.pi * frequency * t)\n",
    "    return wave \n",
    "\n",
    "plt"
   ]
  }
 ],
 "metadata": {
  "kernelspec": {
   "display_name": "Python 3 (ipykernel)",
   "language": "python",
   "name": "python3"
  },
  "language_info": {
   "codemirror_mode": {
    "name": "ipython",
    "version": 3
   },
   "file_extension": ".py",
   "mimetype": "text/x-python",
   "name": "python",
   "nbconvert_exporter": "python",
   "pygments_lexer": "ipython3",
   "version": "3.12.7"
  }
 },
 "nbformat": 4,
 "nbformat_minor": 5
}
